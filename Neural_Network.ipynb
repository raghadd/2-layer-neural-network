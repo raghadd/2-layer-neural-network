{
 "cells": [
  {
   "cell_type": "markdown",
   "metadata": {},
   "source": [
    "## Artificial Neural Network Classifier\n"
   ]
  },
  {
   "cell_type": "code",
   "execution_count": 1,
   "metadata": {},
   "outputs": [],
   "source": [
    "import numpy as np"
   ]
  },
  {
   "cell_type": "markdown",
   "metadata": {},
   "source": [
    "Creating arrays for the data"
   ]
  },
  {
   "cell_type": "code",
   "execution_count": 2,
   "metadata": {},
   "outputs": [],
   "source": [
    "# a third column is added for multiplying in x0\n",
    "x = np.array(([30, 50, 1], [60, 80, 1], [20, 30, 1]), dtype=float)\n",
    "y = np.array(([85], [95], [75]), dtype=float)\n",
    "\n",
    "# normalizing data\n",
    "x = x / (np.sqrt((np.sum(x**2))))\n",
    "y = y / (np.sqrt((np.sum(y**2))))"
   ]
  },
  {
   "cell_type": "markdown",
   "metadata": {},
   "source": [
    "Generating random weights"
   ]
  },
  {
   "cell_type": "code",
   "execution_count": 3,
   "metadata": {},
   "outputs": [],
   "source": [
    "w1 = np.random.randn(3, 4) # 3 inputs to 4 neurons of hidden layer\n",
    "w2 = np.random.randn(4, 1) # 4 neurons to 1 output "
   ]
  },
  {
   "cell_type": "markdown",
   "metadata": {},
   "source": [
    "Creating sigmoid and derivative of sigmoid functions"
   ]
  },
  {
   "cell_type": "code",
   "execution_count": 4,
   "metadata": {},
   "outputs": [],
   "source": [
    "def sigmoid(f):\n",
    "        return 1/(1 + np.exp(-f))\n",
    "    \n",
    "def dSigmoid(f): # change it to dSigmoid\n",
    "    return sigmoid(f) * (1 - sigmoid(f))"
   ]
  },
  {
   "cell_type": "markdown",
   "metadata": {},
   "source": [
    "Using the FEED-FORWARD algorithm"
   ]
  },
  {
   "cell_type": "code",
   "execution_count": 5,
   "metadata": {},
   "outputs": [],
   "source": [
    "R = x.dot(w1)\n",
    "H = sigmoid(R)\n",
    "S = H.dot(w2)\n",
    "yhat = sigmoid(S)"
   ]
  },
  {
   "cell_type": "markdown",
   "metadata": {},
   "source": [
    "Create a copy of the weights used for updating without changing the original"
   ]
  },
  {
   "cell_type": "code",
   "execution_count": 6,
   "metadata": {},
   "outputs": [],
   "source": [
    "G1 = np.copy(w1)\n",
    "G2 = np.copy(w2)"
   ]
  },
  {
   "cell_type": "markdown",
   "metadata": {},
   "source": [
    "3 epoch for updating weights"
   ]
  },
  {
   "cell_type": "code",
   "execution_count": 7,
   "metadata": {},
   "outputs": [
    {
     "name": "stdout",
     "output_type": "stream",
     "text": [
      "Iteration number  0\n",
      "Input to Hidden: \n",
      " [[-0.06428162  0.52253271  0.35232951 -0.32541091]\n",
      " [-0.13772549  0.89161304  0.58054636 -0.55868863]\n",
      " [-0.05148331  0.32271475  0.21860655 -0.20033841]]\n",
      "Weight 1:\n",
      " [[-0.43851333  0.56063395  0.22337299 -0.36917561]\n",
      " [ 0.14166314  0.93113863  0.69904855 -0.57370129]\n",
      " [-1.72228429 -0.01576142  1.0684239   0.30233161]]\n",
      "New weight: \n",
      " [[-1.30923419e-02  6.27399197e-04 -1.45953740e-02 -1.44473692e-02]\n",
      " [-1.88981393e-02  9.10866663e-04 -2.11165818e-02 -2.09006644e-02]\n",
      " [-3.38532408e-04  1.67413319e-05 -3.82281409e-04 -3.78142875e-04]]\n",
      "Output of Hidden: \n",
      " [[0.48393513 0.62773981 0.58718236 0.41935764]\n",
      " [0.46562295 0.70922293 0.64119311 0.36385094]\n",
      " [0.48713201 0.57998572 0.55443503 0.45008224]]\n",
      "Weight 2:\n",
      " [[-1.50863489]\n",
      " [ 0.08235935]\n",
      " [-1.77804727]\n",
      " [-1.75121042]]\n",
      "New weight: \n",
      " [[0.05212441]\n",
      " [0.07042314]\n",
      " [0.06531037]\n",
      " [0.04437145]] \n",
      "-------\n",
      "\n",
      "Iteration number  1\n",
      "Input to Hidden: \n",
      " [[-0.01103464  0.00053096 -0.01232165 -0.01219596]\n",
      " [-0.01894943  0.00091154 -0.02115716 -0.02094144]\n",
      " [-0.00683785  0.00032898 -0.00763499 -0.00755712]]\n",
      "Weight 1:\n",
      " [[-0.43851333  0.56063395  0.22337299 -0.36917561]\n",
      " [ 0.14166314  0.93113863  0.69904855 -0.57370129]\n",
      " [-1.72228429 -0.01576142  1.0684239   0.30233161]]\n",
      "New weight: \n",
      " [[-6.00559926e-03  3.27884871e-04 -7.07793463e-03 -6.97111901e-03]\n",
      " [-8.30621796e-03  4.53489857e-04 -9.78934675e-03 -9.64161181e-03]\n",
      " [-1.06571509e-04  5.81842718e-06 -1.25600523e-04 -1.23705037e-04]]\n",
      "Output of Hidden: \n",
      " [[0.49724137 0.50013274 0.49691963 0.49695105]\n",
      " [0.49526279 0.50022789 0.49471091 0.49476483]\n",
      " [0.49829054 0.50008224 0.49809126 0.49811073]]\n",
      "Weight 2:\n",
      " [[-1.50863489]\n",
      " [ 0.08235935]\n",
      " [-1.77804727]\n",
      " [-1.75121042]]\n",
      "New weight: \n",
      " [[0.0169765 ]\n",
      " [0.01714021]\n",
      " [0.0169583 ]\n",
      " [0.01696007]] \n",
      "-------\n",
      "\n",
      "Iteration number  2\n",
      "Input to Hidden: \n",
      " [[-0.0049118   0.00026817 -0.00578884 -0.00570148]\n",
      " [-0.0084527   0.00046149 -0.00996198 -0.00981164]\n",
      " [-0.00304649  0.00016633 -0.00359046 -0.00353628]]\n",
      "Weight 1:\n",
      " [[-0.43851333  0.56063395  0.22337299 -0.36917561]\n",
      " [ 0.14166314  0.93113863  0.69904855 -0.57370129]\n",
      " [-1.72228429 -0.01576142  1.0684239   0.30233161]]\n",
      "New weight: \n",
      " [[-7.76528268e-03  4.23928674e-04 -9.15195337e-03 -9.01382476e-03]\n",
      " [-1.08648503e-02  5.93142544e-04 -1.28050226e-02 -1.26117587e-02]\n",
      " [-1.54434055e-04  8.43097761e-06 -1.82011932e-04 -1.79264851e-04]]\n",
      "Output of Hidden: \n",
      " [[0.49877205 0.50006704 0.49855279 0.49857463]\n",
      " [0.49788684 0.50011537 0.49750952 0.49754711]\n",
      " [0.49923838 0.50004158 0.49910239 0.49911593]]\n",
      "Weight 2:\n",
      " [[-1.50863489]\n",
      " [ 0.08235935]\n",
      " [-1.77804727]\n",
      " [-1.75121042]]\n",
      "New weight: \n",
      " [[0.02473476]\n",
      " [0.02483045]\n",
      " [0.02471855]\n",
      " [0.02472017]] \n",
      "-------\n",
      "\n"
     ]
    }
   ],
   "source": [
    "for i in range(3):\n",
    "    print(\"Iteration number \", i)\n",
    "    \n",
    "    R = x.dot(G1)\n",
    "    H = sigmoid(R)\n",
    "    S = H.dot(G2)\n",
    "    yhat = sigmoid(S)\n",
    "    \n",
    "    B2 = (y - yhat) * dSigmoid(S)\n",
    "    G2 = H.T.dot(B2) \n",
    "    B1 = B2.dot(w2.T) * dSigmoid(R)\n",
    "    G1 = x.T.dot( B1 )\n",
    "    \n",
    "    print(\"Input to Hidden: \\n\", R)\n",
    "    print(\"Weight 1:\\n\", w1)\n",
    "    print(\"New weight: \\n\", G1)\n",
    "    \n",
    "    print(\"Output of Hidden: \\n\", H)\n",
    "    print(\"Weight 2:\\n\", w2)\n",
    "    print(\"New weight: \\n\", G2, \"\\n-------\\n\")\n",
    "    "
   ]
  },
  {
   "cell_type": "markdown",
   "metadata": {},
   "source": [
    "Testing using resulted weights"
   ]
  },
  {
   "cell_type": "code",
   "execution_count": 8,
   "metadata": {},
   "outputs": [
    {
     "name": "stdout",
     "output_type": "stream",
     "text": [
      "[[0.51234049]\n",
      " [0.51231711]\n",
      " [0.51235283]]\n"
     ]
    }
   ],
   "source": [
    "testing = np.array(([50, 20, 1], [40, 70, 1], [40, 60, 1]), float)\n",
    "\n",
    "R = x.dot(G1)\n",
    "H = sigmoid(R)\n",
    "S = H.dot(G2)\n",
    "yhat = sigmoid(S)\n",
    "print(yhat)\n",
    "\n"
   ]
  },
  {
   "cell_type": "markdown",
   "metadata": {},
   "source": [
    "-"
   ]
  }
 ],
 "metadata": {
  "kernelspec": {
   "display_name": "Python 3",
   "language": "python",
   "name": "python3"
  },
  "language_info": {
   "codemirror_mode": {
    "name": "ipython",
    "version": 3
   },
   "file_extension": ".py",
   "mimetype": "text/x-python",
   "name": "python",
   "nbconvert_exporter": "python",
   "pygments_lexer": "ipython3",
   "version": "3.7.0"
  }
 },
 "nbformat": 4,
 "nbformat_minor": 2
}
